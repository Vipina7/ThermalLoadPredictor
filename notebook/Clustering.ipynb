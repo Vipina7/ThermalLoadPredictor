{
 "cells": [
  {
   "cell_type": "markdown",
   "metadata": {},
   "source": [
    "# Clustering Analysis of Heating and Cooling Loads  \n",
    "\n",
    "## Introduction  \n",
    "In this study, we aim to determine whether there are **distinct groups (clusters)** among buildings based on their **heating and cooling loads**. Identifying such groups can help optimize **energy efficiency strategies**, detect patterns in energy consumption, and categorize buildings with similar thermal properties.  \n",
    "\n",
    "## Objective  \n",
    "- Explore different **clustering techniques** to group buildings based on their heating and cooling loads.  \n",
    "- Compare the performance of **K-Means, DBSCAN, Agglomerative Clustering, and Gaussian Mixture Models (GMM)**.  \n",
    "- Evaluate clustering effectiveness using **Silhouette Score** and visualize results.  \n",
    "\n",
    "## Methodology  \n",
    "1. **Data Preprocessing**  \n",
    "   - Scale the features for better clustering performance.  \n",
    "\n",
    "2. **Clustering Techniques**  \n",
    "   - **K-Means Clustering**: Groups buildings into `k` clusters based on similarity.  \n",
    "   - **DBSCAN**: Identifies high-density clusters and outliers.  \n",
    "   - **Agglomerative Hierarchical Clustering**: Creates a hierarchical tree structure of clusters.  \n",
    "   - **Gaussian Mixture Model (GMM)**: Assigns probabilistic cluster memberships.  \n",
    "\n",
    "3. **Evaluation Metrics**  \n",
    "   - **Silhouette Score**: Measures how well-defined the clusters are.  \n",
    "   - **Visualization**: Scatter plots to examine clustering patterns.  \n",
    "\n",
    "By applying these techniques, we aim to uncover **hidden structures in heating and cooling load data**, which can lead to better energy-saving decisions.  \n"
   ]
  },
  {
   "cell_type": "code",
   "execution_count": 2,
   "metadata": {},
   "outputs": [],
   "source": [
    "import matplotlib.pyplot as plt\n",
    "import pandas as pd"
   ]
  },
  {
   "cell_type": "code",
   "execution_count": 3,
   "metadata": {},
   "outputs": [
    {
     "data": {
      "text/html": [
       "<div>\n",
       "<style scoped>\n",
       "    .dataframe tbody tr th:only-of-type {\n",
       "        vertical-align: middle;\n",
       "    }\n",
       "\n",
       "    .dataframe tbody tr th {\n",
       "        vertical-align: top;\n",
       "    }\n",
       "\n",
       "    .dataframe thead th {\n",
       "        text-align: right;\n",
       "    }\n",
       "</style>\n",
       "<table border=\"1\" class=\"dataframe\">\n",
       "  <thead>\n",
       "    <tr style=\"text-align: right;\">\n",
       "      <th></th>\n",
       "      <th>X1</th>\n",
       "      <th>X2</th>\n",
       "      <th>X3</th>\n",
       "      <th>X4</th>\n",
       "      <th>X5</th>\n",
       "      <th>X6</th>\n",
       "      <th>X7</th>\n",
       "      <th>X8</th>\n",
       "      <th>Y1</th>\n",
       "      <th>Y2</th>\n",
       "    </tr>\n",
       "  </thead>\n",
       "  <tbody>\n",
       "    <tr>\n",
       "      <th>0</th>\n",
       "      <td>0.98</td>\n",
       "      <td>514.5</td>\n",
       "      <td>294.0</td>\n",
       "      <td>110.25</td>\n",
       "      <td>7.0</td>\n",
       "      <td>2</td>\n",
       "      <td>0.0</td>\n",
       "      <td>0</td>\n",
       "      <td>15.55</td>\n",
       "      <td>21.33</td>\n",
       "    </tr>\n",
       "    <tr>\n",
       "      <th>1</th>\n",
       "      <td>0.98</td>\n",
       "      <td>514.5</td>\n",
       "      <td>294.0</td>\n",
       "      <td>110.25</td>\n",
       "      <td>7.0</td>\n",
       "      <td>3</td>\n",
       "      <td>0.0</td>\n",
       "      <td>0</td>\n",
       "      <td>15.55</td>\n",
       "      <td>21.33</td>\n",
       "    </tr>\n",
       "    <tr>\n",
       "      <th>2</th>\n",
       "      <td>0.98</td>\n",
       "      <td>514.5</td>\n",
       "      <td>294.0</td>\n",
       "      <td>110.25</td>\n",
       "      <td>7.0</td>\n",
       "      <td>4</td>\n",
       "      <td>0.0</td>\n",
       "      <td>0</td>\n",
       "      <td>15.55</td>\n",
       "      <td>21.33</td>\n",
       "    </tr>\n",
       "    <tr>\n",
       "      <th>3</th>\n",
       "      <td>0.98</td>\n",
       "      <td>514.5</td>\n",
       "      <td>294.0</td>\n",
       "      <td>110.25</td>\n",
       "      <td>7.0</td>\n",
       "      <td>5</td>\n",
       "      <td>0.0</td>\n",
       "      <td>0</td>\n",
       "      <td>15.55</td>\n",
       "      <td>21.33</td>\n",
       "    </tr>\n",
       "    <tr>\n",
       "      <th>4</th>\n",
       "      <td>0.90</td>\n",
       "      <td>563.5</td>\n",
       "      <td>318.5</td>\n",
       "      <td>122.50</td>\n",
       "      <td>7.0</td>\n",
       "      <td>2</td>\n",
       "      <td>0.0</td>\n",
       "      <td>0</td>\n",
       "      <td>20.84</td>\n",
       "      <td>28.28</td>\n",
       "    </tr>\n",
       "  </tbody>\n",
       "</table>\n",
       "</div>"
      ],
      "text/plain": [
       "     X1     X2     X3      X4   X5  X6   X7  X8     Y1     Y2\n",
       "0  0.98  514.5  294.0  110.25  7.0   2  0.0   0  15.55  21.33\n",
       "1  0.98  514.5  294.0  110.25  7.0   3  0.0   0  15.55  21.33\n",
       "2  0.98  514.5  294.0  110.25  7.0   4  0.0   0  15.55  21.33\n",
       "3  0.98  514.5  294.0  110.25  7.0   5  0.0   0  15.55  21.33\n",
       "4  0.90  563.5  318.5  122.50  7.0   2  0.0   0  20.84  28.28"
      ]
     },
     "execution_count": 3,
     "metadata": {},
     "output_type": "execute_result"
    }
   ],
   "source": [
    "df = pd.read_csv('data\\energy_efficiency.csv')\n",
    "df.head()"
   ]
  },
  {
   "cell_type": "markdown",
   "metadata": {},
   "source": [
    "## Preprocessing"
   ]
  },
  {
   "cell_type": "code",
   "execution_count": 4,
   "metadata": {},
   "outputs": [],
   "source": [
    "## rename the columns\n",
    "df = df.rename({\"X1\": \"relative_compactness\",\n",
    "    \"X2\": \"surface_area(m²)\",  \n",
    "    \"X3\": \"wall_area(m²)\",  \n",
    "    \"X4\": \"roof_area(m²)\",  \n",
    "    \"X5\": \"overall_height(m)\",  \n",
    "    \"X6\": \"orientation\",  \n",
    "    \"X7\": \"glazing_area(m²)\",  \n",
    "    \"X8\": \"glazing_area_Distribution\",\n",
    "    \"Y1\": \"heating_load(kWh/m²)\",  \n",
    "    \"Y2\": \"cooling_load(kWh/m²)\"}, axis=1)"
   ]
  },
  {
   "cell_type": "code",
   "execution_count": 5,
   "metadata": {},
   "outputs": [
    {
     "data": {
      "text/html": [
       "<div>\n",
       "<style scoped>\n",
       "    .dataframe tbody tr th:only-of-type {\n",
       "        vertical-align: middle;\n",
       "    }\n",
       "\n",
       "    .dataframe tbody tr th {\n",
       "        vertical-align: top;\n",
       "    }\n",
       "\n",
       "    .dataframe thead th {\n",
       "        text-align: right;\n",
       "    }\n",
       "</style>\n",
       "<table border=\"1\" class=\"dataframe\">\n",
       "  <thead>\n",
       "    <tr style=\"text-align: right;\">\n",
       "      <th></th>\n",
       "      <th>surface_area(m²)</th>\n",
       "      <th>wall_area(m²)</th>\n",
       "      <th>overall_height(m)</th>\n",
       "      <th>glazing_area(m²)</th>\n",
       "      <th>glazing_area_Distribution</th>\n",
       "      <th>heating_load(kWh/m²)</th>\n",
       "      <th>cooling_load(kWh/m²)</th>\n",
       "    </tr>\n",
       "  </thead>\n",
       "  <tbody>\n",
       "    <tr>\n",
       "      <th>0</th>\n",
       "      <td>514.5</td>\n",
       "      <td>294.0</td>\n",
       "      <td>7.0</td>\n",
       "      <td>0.0</td>\n",
       "      <td>0</td>\n",
       "      <td>15.55</td>\n",
       "      <td>21.33</td>\n",
       "    </tr>\n",
       "    <tr>\n",
       "      <th>1</th>\n",
       "      <td>514.5</td>\n",
       "      <td>294.0</td>\n",
       "      <td>7.0</td>\n",
       "      <td>0.0</td>\n",
       "      <td>0</td>\n",
       "      <td>15.55</td>\n",
       "      <td>21.33</td>\n",
       "    </tr>\n",
       "    <tr>\n",
       "      <th>2</th>\n",
       "      <td>514.5</td>\n",
       "      <td>294.0</td>\n",
       "      <td>7.0</td>\n",
       "      <td>0.0</td>\n",
       "      <td>0</td>\n",
       "      <td>15.55</td>\n",
       "      <td>21.33</td>\n",
       "    </tr>\n",
       "    <tr>\n",
       "      <th>3</th>\n",
       "      <td>514.5</td>\n",
       "      <td>294.0</td>\n",
       "      <td>7.0</td>\n",
       "      <td>0.0</td>\n",
       "      <td>0</td>\n",
       "      <td>15.55</td>\n",
       "      <td>21.33</td>\n",
       "    </tr>\n",
       "    <tr>\n",
       "      <th>4</th>\n",
       "      <td>563.5</td>\n",
       "      <td>318.5</td>\n",
       "      <td>7.0</td>\n",
       "      <td>0.0</td>\n",
       "      <td>0</td>\n",
       "      <td>20.84</td>\n",
       "      <td>28.28</td>\n",
       "    </tr>\n",
       "  </tbody>\n",
       "</table>\n",
       "</div>"
      ],
      "text/plain": [
       "   surface_area(m²)  wall_area(m²)  overall_height(m)  glazing_area(m²)  \\\n",
       "0             514.5          294.0                7.0               0.0   \n",
       "1             514.5          294.0                7.0               0.0   \n",
       "2             514.5          294.0                7.0               0.0   \n",
       "3             514.5          294.0                7.0               0.0   \n",
       "4             563.5          318.5                7.0               0.0   \n",
       "\n",
       "   glazing_area_Distribution  heating_load(kWh/m²)  cooling_load(kWh/m²)  \n",
       "0                          0                 15.55                 21.33  \n",
       "1                          0                 15.55                 21.33  \n",
       "2                          0                 15.55                 21.33  \n",
       "3                          0                 15.55                 21.33  \n",
       "4                          0                 20.84                 28.28  "
      ]
     },
     "execution_count": 5,
     "metadata": {},
     "output_type": "execute_result"
    }
   ],
   "source": [
    "## Remove multicolliniearity\n",
    "df = df.drop(columns = ['relative_compactness','roof_area(m²)','orientation'], axis=1)\n",
    "df.head()"
   ]
  },
  {
   "cell_type": "code",
   "execution_count": 7,
   "metadata": {},
   "outputs": [
    {
     "data": {
      "text/plain": [
       "array([[-1.78587489, -0.56195149,  1.        , -1.76044698, -1.81457514],\n",
       "       [-1.78587489, -0.56195149,  1.        , -1.76044698, -1.81457514],\n",
       "       [-1.78587489, -0.56195149,  1.        , -1.76044698, -1.81457514],\n",
       "       ...,\n",
       "       [ 1.55394308,  1.12390297, -1.        ,  1.2440492 ,  1.41133622],\n",
       "       [ 1.55394308,  1.12390297, -1.        ,  1.2440492 ,  1.41133622],\n",
       "       [ 1.55394308,  1.12390297, -1.        ,  1.2440492 ,  1.41133622]])"
      ]
     },
     "execution_count": 7,
     "metadata": {},
     "output_type": "execute_result"
    }
   ],
   "source": [
    "## scale the data\n",
    "from sklearn.preprocessing import StandardScaler\n",
    "scaler = StandardScaler()\n",
    "df_scaled = scaler.fit_transform(df)\n",
    "df_scaled[:,:5]"
   ]
  },
  {
   "cell_type": "markdown",
   "metadata": {},
   "source": [
    "## Running Clustering algorithms"
   ]
  },
  {
   "cell_type": "code",
   "execution_count": 14,
   "metadata": {},
   "outputs": [
    {
     "name": "stdout",
     "output_type": "stream",
     "text": [
      "    silhouette_score\n",
      "2           0.443612\n",
      "3           0.372544\n",
      "4           0.285926\n",
      "5           0.266747\n",
      "6           0.270192\n",
      "7           0.269987\n",
      "8           0.270270\n",
      "9           0.274849\n",
      "10          0.281117\n"
     ]
    },
    {
     "data": {
      "image/png": "[encoded data removed]",
      "text/plain": [
       "<Figure size 640x480 with 1 Axes>"
      ]
     },
     "metadata": {},
     "output_type": "display_data"
    }
   ],
   "source": [
    "## Kmeans clustering\n",
    "import warnings\n",
    "warnings.filterwarnings('ignore')\n",
    "from sklearn.cluster import KMeans\n",
    "from sklearn.metrics import silhouette_score\n",
    "\n",
    "wcss = []\n",
    "k_means_silhouette = {}\n",
    "for k in range(2,11):\n",
    "    kmeans = KMeans(n_clusters=k, random_state=42)\n",
    "    kmeans_labels = kmeans.fit_predict(df_scaled)\n",
    "    wcss.append(kmeans.inertia_)\n",
    "    k_means_silhouette[k] = silhouette_score(df_scaled, kmeans_labels)\n",
    "\n",
    "print(pd.DataFrame.from_dict(k_means_silhouette, orient='index', columns=['silhouette_score']))\n",
    "\n",
    "# Elbow method\n",
    "plt.plot(range(2,11), wcss, marker = 'o')\n",
    "plt.xlabel('Number of Clusters')\n",
    "plt.ylabel('WCSS')\n",
    "plt.title('Elbow Method')\n",
    "plt.show()"
   ]
  },
  {
   "cell_type": "code",
   "execution_count": 16,
   "metadata": {},
   "outputs": [
    {
     "name": "stdout",
     "output_type": "stream",
     "text": [
      "    silhouette_score\n",
      "2           0.443612\n",
      "3           0.372250\n",
      "4           0.261177\n",
      "5           0.268329\n",
      "6           0.243979\n",
      "7           0.239565\n",
      "8           0.236205\n",
      "9           0.242738\n",
      "10          0.240569\n"
     ]
    }
   ],
   "source": [
    "## DBScan\n",
    "from sklearn.cluster import AgglomerativeClustering\n",
    "\n",
    "agglo_silhouette = {}\n",
    "\n",
    "for k in range(2, 11):\n",
    "    agglo = AgglomerativeClustering(n_clusters=k)\n",
    "    agglo_labels = agglo.fit_predict(df_scaled)\n",
    "    agglo_silhouette[k] = silhouette_score(df_scaled, agglo_labels)\n",
    "\n",
    "print(pd.DataFrame.from_dict(agglo_silhouette, orient='index', columns=['silhouette_score']))"
   ]
  },
  {
   "cell_type": "code",
   "execution_count": 20,
   "metadata": {},
   "outputs": [
    {
     "name": "stdout",
     "output_type": "stream",
     "text": [
      "     silhouette_score\n",
      "0.7          0.199194\n",
      "0.9          0.208972\n",
      "1.1          0.211111\n",
      "1.3          0.354437\n",
      "1.5          0.388715\n",
      "1.7          0.388715\n",
      "1.9          0.443612\n"
     ]
    }
   ],
   "source": [
    "from sklearn.cluster import DBSCAN\n",
    "import numpy as np\n",
    "dbscan_silhouette = {}\n",
    "\n",
    "# Trying different eps values\n",
    "eps_values = np.arange(0.1, 2.0, 0.2)\n",
    "\n",
    "for eps in eps_values:\n",
    "    dbscan = DBSCAN(eps=eps, min_samples=5)\n",
    "    dbscan_labels = dbscan.fit_predict(df_scaled)\n",
    "\n",
    "    # Ignore cases where DBSCAN labels everything as noise (-1)\n",
    "    if len(set(dbscan_labels)) > 1:\n",
    "        dbscan_silhouette[eps] = silhouette_score(df_scaled, dbscan_labels)\n",
    "\n",
    "print(pd.DataFrame.from_dict(dbscan_silhouette, orient = 'index', columns = ['silhouette_score']))\n"
   ]
  },
  {
   "cell_type": "markdown",
   "metadata": {},
   "source": [
    "**Based on Silhouette Scores**\n",
    "After applying KMeans, Agglomerative Clustering, and DBSCAN, we evaluated the clustering quality using the silhouette score. The results indicate that:\n",
    "\n",
    "**KMeans** achieved a moderate silhouette score, suggesting some structure in the data, but the clusters were not clearly separated.\n",
    "\n",
    "**Agglomerative** Clustering produced similar results to KMeans, indicating that hierarchical grouping did not significantly improve clustering quality.\n",
    "\n",
    "**DBSCAN** resulted in the highest silhouette score (0.44) for two clusters, but this is still a relatively low value, suggesting overlapping clusters and poor separation.\n",
    "\n",
    "**Conclusion**\n",
    "None of the clustering methods provided strong, well-defined clusters for this dataset.\n",
    "The data may not naturally form distinct groups, or additional feature engineering and scaling adjustments may be needed."
   ]
  },
  {
   "cell_type": "code",
   "execution_count": null,
   "metadata": {},
   "outputs": [],
   "source": []
  }
 ],
 "metadata": {
  "kernelspec": {
   "display_name": "Python 3",
   "language": "python",
   "name": "python3"
  },
  "language_info": {
   "codemirror_mode": {
    "name": "ipython",
    "version": 3
   },
   "file_extension": ".py",
   "mimetype": "text/x-python",
   "name": "python",
   "nbconvert_exporter": "python",
   "pygments_lexer": "ipython3",
   "version": "3.9.0"
  }
 },
 "nbformat": 4,
 "nbformat_minor": 2
}
